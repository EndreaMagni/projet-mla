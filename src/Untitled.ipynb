{
 "cells": [
  {
   "cell_type": "code",
   "execution_count": 2,
   "id": "b5ebfd3c",
   "metadata": {},
   "outputs": [],
   "source": [
    "from Evaluation.evaluate import *"
   ]
  },
  {
   "cell_type": "code",
   "execution_count": 18,
   "id": "0b990be4",
   "metadata": {},
   "outputs": [],
   "source": [
    "reference = [\"Linda s'est cassée la jambe quand elle était au Laser Game\"]\n",
    "pred = [\"Linda s'est cassée la jambe quand elle au Laser Game\",\n",
    "        \"Linda s'est cassée la jambe au Laser Game\",\n",
    "        \"Linda s'est cassé la jambes quant elle aux Laser Game\"]\n"
   ]
  },
  {
   "cell_type": "code",
   "execution_count": 19,
   "id": "fe0a4c1e",
   "metadata": {},
   "outputs": [
    {
     "name": "stdout",
     "output_type": "stream",
     "text": [
      "Phrase de référence : Linda s'est cassée la jambe quand elle était au Laser Game\n",
      "\n",
      "Candidat 1 : Linda s'est cassée la jambe quand elle au Laser Game \n",
      "Score : 0.8773463257631525\n",
      "\n",
      "Candidat 2 : Linda s'est cassée la jambe au Laser Game \n",
      "Score : 0.6474946012637234\n",
      "\n",
      "Candidat 3 : Linda s'est cassé la jambes quant elle aux Laser Game \n",
      "Score : 0.736716866411167\n"
     ]
    }
   ],
   "source": [
    "print(f\"Phrase de référence : {reference[0]}\")\n",
    "\n",
    "for i,cand in enumerate(pred) :\n",
    "    print(f\"\\nCandidat {i + 1} : {cand}\",\n",
    "         f\"\\nScore : {compute_bleu_score(cand,reference)}\")"
   ]
  },
  {
   "cell_type": "code",
   "execution_count": null,
   "id": "1a8ee13f",
   "metadata": {},
   "outputs": [],
   "source": []
  }
 ],
 "metadata": {
  "kernelspec": {
   "display_name": "Python 3 (ipykernel)",
   "language": "python",
   "name": "python3"
  },
  "language_info": {
   "codemirror_mode": {
    "name": "ipython",
    "version": 3
   },
   "file_extension": ".py",
   "mimetype": "text/x-python",
   "name": "python",
   "nbconvert_exporter": "python",
   "pygments_lexer": "ipython3",
   "version": "3.11.5"
  }
 },
 "nbformat": 4,
 "nbformat_minor": 5
}
