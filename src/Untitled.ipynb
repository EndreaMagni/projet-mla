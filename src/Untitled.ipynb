{
 "cells": [
  {
   "cell_type": "markdown",
   "id": "15b5d3f8-2db3-43e0-a5de-f52e924bad22",
   "metadata": {},
   "source": [
    "# Reproduction de nos expériences"
   ]
  },
  {
   "cell_type": "markdown",
   "id": "1882948f-983d-4ac0-95c3-e5b7ee6bcf94",
   "metadata": {},
   "source": [
    "## Imports"
   ]
  },
  {
   "cell_type": "code",
   "execution_count": null,
   "id": "3d50b769-1e67-48e1-b260-bc59d32daa0c",
   "metadata": {},
   "outputs": [],
   "source": [
    "import matplotlib.pyplot as plt"
   ]
  },
  {
   "cell_type": "markdown",
   "id": "39c2b20d-7c2d-4fbd-a438-8737da120cec",
   "metadata": {},
   "source": [
    "## Installation du requirements.txt"
   ]
  },
  {
   "cell_type": "code",
   "execution_count": null,
   "id": "654fde7c-343b-45e0-928a-1558518e591a",
   "metadata": {},
   "outputs": [],
   "source": [
    "!pip install -r requirements.txt"
   ]
  },
  {
   "cell_type": "markdown",
   "id": "1432d6d8-443e-4b1d-9a84-eb4038db3063",
   "metadata": {},
   "source": [
    "## Téléchargement des bases de données "
   ]
  },
  {
   "cell_type": "code",
   "execution_count": 15,
   "id": "77da8777-27f4-434d-b658-edf0b36a4be5",
   "metadata": {},
   "outputs": [],
   "source": [
    "# Veuillez copier coller ces lignes de codes dans le terminal, en étant dans le même dossier qui contient projet-mla\n",
    "\n",
    "# gdown 1_ssOyUllrBISUCokcQFSx4gjgf3jGKyv\n",
    "# unzip dataset_30\n",
    "\n",
    "# gdown 1Xn1znCIuMXQJXDBTOVtxFBjJHQ5k_odV\n",
    "# unzip dataset_50\n",
    "\n",
    "# gdown 1X6edpRo7reSNUAVvpIZvMQrfvniDrUJ_\n",
    "# unzip test_dataset_multi"
   ]
  },
  {
   "cell_type": "markdown",
   "id": "9f3fa22a-48a4-48ba-9830-a328a96498fa",
   "metadata": {},
   "source": [
    "## Lancer les entraînements"
   ]
  },
  {
   "cell_type": "code",
   "execution_count": 1,
   "id": "c27694c9-3872-437e-b5f9-dcb09d92ef73",
   "metadata": {
    "scrolled": true
   },
   "outputs": [
    {
     "name": "stdout",
     "output_type": "stream",
     "text": [
      "Traceback (most recent call last):\n",
      "  File \"/home/linda/projet-mla/src/Baseline/RNNsearch/Decoder_search.py\", line 7, in <module>\n",
      "    from Alignment import Alignment\n",
      "ModuleNotFoundError: No module named 'Alignment'\n",
      "\n",
      "During handling of the above exception, another exception occurred:\n",
      "\n",
      "Traceback (most recent call last):\n",
      "  File \"/home/linda/projet-mla/src/Baseline/RNNsearch/Decoder_search.py\", line 10, in <module>\n",
      "    from Baseline.RNNsearch.Alignment import Alignment\n",
      "ModuleNotFoundError: No module named 'Baseline.RNNsearch.Alignment'\n",
      "\n",
      "During handling of the above exception, another exception occurred:\n",
      "\n",
      "Traceback (most recent call last):\n",
      "  File \"/home/linda/projet-mla/src/main.py\", line 17, in <module>\n",
      "    from Baseline.RNNsearch.Decoder_search import *\n",
      "  File \"/home/linda/projet-mla/src/Baseline/RNNsearch/Decoder_search.py\", line 12, in <module>\n",
      "    from RNNsearch.Alignment import Alignment\n",
      "ModuleNotFoundError: No module named 'RNNsearch'\n"
     ]
    }
   ],
   "source": [
    "# Entraînement du modèle RNNSearch sur une base de donnée constitué de séquences de 30 tokens\n",
    "!python main.py --train --mode RNNSearch --sequence 30 --save_name RNN_search_30"
   ]
  },
  {
   "cell_type": "code",
   "execution_count": null,
   "id": "5372a7bc-60bb-4eae-88cb-52d1908d14f8",
   "metadata": {},
   "outputs": [],
   "source": [
    "# Entraînement du modèle RNNSearch sur une base de donnée constitué de séquences de 50 tokens\n",
    "!python main.py --train --mode RNNSearch --sequence 50 --save_name RNN_search_50"
   ]
  },
  {
   "cell_type": "code",
   "execution_count": null,
   "id": "fc52149f-8f6e-45ad-89df-961b3025c2ce",
   "metadata": {},
   "outputs": [],
   "source": [
    "# Entraînement du modèle RNNEncDec sur une base de donnée constitué de séquences de 30 tokens\n",
    "!python main.py --train --mode RNNEncDec --sequence 30 --save_name RNN_encdec_30"
   ]
  },
  {
   "cell_type": "code",
   "execution_count": null,
   "id": "31b0cda9-75ca-4fe9-b9e8-e4cf37b37439",
   "metadata": {},
   "outputs": [],
   "source": [
    "# Entraînement du modèle RNNEncDec sur une base de donnée constitué de séquences de 50 tokens\n",
    "!python main.py --train --mode RNNEncDec --sequence 50 --save_name RNN_encdec_50"
   ]
  },
  {
   "cell_type": "markdown",
   "id": "a3d3eaf5-6fc1-4ae8-8777-7cf2f3393d01",
   "metadata": {},
   "source": [
    "## Lancer les évaluations"
   ]
  },
  {
   "cell_type": "code",
   "execution_count": null,
   "id": "5a3ce241-1cf8-4b39-9b44-2a077c564fe7",
   "metadata": {},
   "outputs": [],
   "source": [
    "!python main.py --evaluate\n",
    "# La figure est enregistrée dans le fichier projet-mla/src/Evaluation/figures"
   ]
  },
  {
   "cell_type": "code",
   "execution_count": null,
   "id": "f6035a93-dc5c-4ffa-bf49-0660f4afc3cd",
   "metadata": {},
   "outputs": [],
   "source": [
    "!python Baseline/image_attention.py\n",
    "# La figure représentant les poids de l'attention\n",
    "# est enregistrée dans le fichier projet-mla/src/Baseline/figures_attention"
   ]
  }
 ],
 "metadata": {
  "kernelspec": {
   "display_name": "Python 3 (ipykernel)",
   "language": "python",
   "name": "python3"
  },
  "language_info": {
   "codemirror_mode": {
    "name": "ipython",
    "version": 3
   },
   "file_extension": ".py",
   "mimetype": "text/x-python",
   "name": "python",
   "nbconvert_exporter": "python",
   "pygments_lexer": "ipython3",
   "version": "3.10.6"
  }
 },
 "nbformat": 4,
 "nbformat_minor": 5
}
