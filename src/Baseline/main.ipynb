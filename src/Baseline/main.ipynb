{
 "cells": [
  {
   "cell_type": "code",
   "execution_count": 6,
   "metadata": {},
   "outputs": [],
   "source": [
    "import sys\n",
    "sys.path.append(\".\\\\RNNsearch\")\n",
    "\n",
    "from train import *\n",
    "from RNNsearch.RNNsearch import *\n",
    "from RNNsearch.Encoder_search import *\n",
    "from RNNsearch.Decoder_search import *\n",
    "from RNNsearch.Allignement import *\n",
    "from datasets import  load_from_disk\n",
    "import torch\n",
    "import torch.nn as nn"
   ]
  },
  {
   "cell_type": "markdown",
   "metadata": {},
   "source": [
    "# Getting the vocabs"
   ]
  },
  {
   "cell_type": "code",
   "execution_count": 2,
   "metadata": {},
   "outputs": [],
   "source": [
    "fr_vocab_path = '../../30k_fr.txt'  # Path to the French vocab file\n",
    "with open(fr_vocab_path, 'r') as file:\n",
    "    fr_words = [line.strip() for line in file]\n",
    "\n",
    "# Cleaning words and creating the dictionary\n",
    "word_dict_fr = {word: i for i, word in enumerate(fr_words)}\n",
    "\n",
    "eng_vocab_path= '../../30k_eng.txt'  # Path to the English vocab file\n",
    "# Open the file and read lines into a list\n",
    "with open(eng_vocab_path, 'r') as file:\n",
    "    eng_words = [line.strip() for line in file]\n",
    "\n",
    "word_dict_eng = { word.strip() : i for i, word in enumerate(eng_words)}"
   ]
  },
  {
   "cell_type": "code",
   "execution_count": 5,
   "metadata": {},
   "outputs": [
    {
     "name": "stdout",
     "output_type": "stream",
     "text": [
      "30000\n",
      "30000\n"
     ]
    }
   ],
   "source": [
    "print(len(word_dict_eng))\n",
    "print(len(word_dict_fr))"
   ]
  },
  {
   "cell_type": "markdown",
   "metadata": {},
   "source": [
    "# Initializing the model"
   ]
  },
  {
   "cell_type": "code",
   "execution_count": 3,
   "metadata": {},
   "outputs": [],
   "source": [
    "#hyperparameters\n",
    "batch_size = 80       # Number of sequences in a mini-batch\n",
    "vocab_size = 30000     # Size of the input vocabulary\n",
    "hidden_size = 1000     # Number of features in the hidden state\n",
    "embedding_dim = 620   # Word embedding dimension\n",
    "maxout_units= 500     # Number of units in the maxout layer\n",
    "allign_dim=50        # Number of features in the allignment model Tx"
   ]
  },
  {
   "cell_type": "code",
   "execution_count": 5,
   "metadata": {},
   "outputs": [],
   "source": [
    "encoder=Encoder(vocab_size,hidden_size,embedding_dim)\n",
    "decoder=Decoder(vocab_size,hidden_size,embedding_dim,maxout_units,allign_dim)\n",
    "model=RNNsearch(encoder,decoder,device='cuda')"
   ]
  },
  {
   "cell_type": "code",
   "execution_count": 7,
   "metadata": {},
   "outputs": [
    {
     "data": {
      "text/plain": [
       "RNNsearch(\n",
       "  (encoder): Encoder(\n",
       "    (embedding): Embedding(30000, 620)\n",
       "    (bi_RNN): GRU(620, 1000, batch_first=True, bidirectional=True)\n",
       "  )\n",
       "  (decoder): Decoder(\n",
       "    (Allignement): Allignement(\n",
       "      (Wa): Linear(in_features=1000, out_features=50, bias=False)\n",
       "      (Ua): Linear(in_features=2000, out_features=50, bias=False)\n",
       "      (va): Linear(in_features=50, out_features=1, bias=False)\n",
       "    )\n",
       "    (embedding): Embedding(30000, 620)\n",
       "    (gru): GRU(3620, 1000, batch_first=True)\n",
       "    (maxout): Maxout(\n",
       "      (lin): Linear(in_features=3620, out_features=1000, bias=True)\n",
       "    )\n",
       "    (fc): Linear(in_features=500, out_features=30000, bias=True)\n",
       "  )\n",
       ")"
      ]
     },
     "execution_count": 7,
     "metadata": {},
     "output_type": "execute_result"
    }
   ],
   "source": [
    "def Init_weights(self):\n",
    "        for name, param in model.named_parameters():\n",
    "\n",
    "            if 'weight_hh' in name:\n",
    "                nn.init.orthogonal_(param.data) \n",
    "            elif 'weight' in name:  \n",
    "                nn.init.normal_(param.data, mean=0, std=0.01)  \n",
    "            else:\n",
    "                nn.init.constant_(param.data,0)\n",
    "\n",
    "model.apply(Init_weights)"
   ]
  },
  {
   "cell_type": "code",
   "execution_count": null,
   "metadata": {},
   "outputs": [],
   "source": []
  },
  {
   "cell_type": "code",
   "execution_count": null,
   "metadata": {},
   "outputs": [],
   "source": []
  }
 ],
 "metadata": {
  "kernelspec": {
   "display_name": "ISI",
   "language": "python",
   "name": "python3"
  },
  "language_info": {
   "codemirror_mode": {
    "name": "ipython",
    "version": 3
   },
   "file_extension": ".py",
   "mimetype": "text/x-python",
   "name": "python",
   "nbconvert_exporter": "python",
   "pygments_lexer": "ipython3",
   "version": "3.11.5"
  }
 },
 "nbformat": 4,
 "nbformat_minor": 2
}
