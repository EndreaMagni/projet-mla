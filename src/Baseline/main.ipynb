{
 "cells": [
  {
   "cell_type": "code",
   "execution_count": 2,
   "metadata": {},
   "outputs": [],
   "source": [
    "from train import *\n",
    "from seq2seq import *\n",
    "from Encoder_search import *\n",
    "from Decoder_search import *\n",
    "from datasets import  load_from_disk"
   ]
  },
  {
   "cell_type": "code",
   "execution_count": 3,
   "metadata": {},
   "outputs": [],
   "source": [
    "#hyperparameters\n",
    "batch_size = 80       # Number of sequences in a mini-batch\n",
    "vocab_size = 30000     # Size of the input vocabulary\n",
    "hidden_size = 1000     # Number of features in the hidden state\n",
    "embedding_dim = 620   # Word embedding dimension\n",
    "context_size = ...   # Number of features in the context vector"
   ]
  },
  {
   "cell_type": "code",
   "execution_count": null,
   "metadata": {},
   "outputs": [],
   "source": [
    "econder=Encoder(vocab_size,embedding_dim,hidden_size)\n",
    "decoder=Decoder(vocab_size,embedding_dim,context_size,hidden_size)\n",
    "model=seq2seq(econder,decoder)"
   ]
  },
  {
   "cell_type": "code",
   "execution_count": null,
   "metadata": {},
   "outputs": [],
   "source": [
    "data = load_from_disk('C:\\\\Users\\\\ferie\\\\OneDrive\\\\Bureau\\\\M2 ISI\\\\mini_dataset')\n",
    "batches = train.make_batches(data, batch_size)"
   ]
  },
  {
   "cell_type": "code",
   "execution_count": null,
   "metadata": {},
   "outputs": [],
   "source": [
    "train(model, batches, epochs=10, lr=0.001, print_every=1000, device='cpu')"
   ]
  }
 ],
 "metadata": {
  "kernelspec": {
   "display_name": "ISI",
   "language": "python",
   "name": "python3"
  },
  "language_info": {
   "codemirror_mode": {
    "name": "ipython",
    "version": 3
   },
   "file_extension": ".py",
   "mimetype": "text/x-python",
   "name": "python",
   "nbconvert_exporter": "python",
   "pygments_lexer": "ipython3",
   "version": "3.11.5"
  }
 },
 "nbformat": 4,
 "nbformat_minor": 2
}
