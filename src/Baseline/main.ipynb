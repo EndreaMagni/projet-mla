{
 "cells": [
  {
   "cell_type": "code",
   "execution_count": 2,
   "metadata": {},
   "outputs": [],
   "source": [
    "from train import *\n",
    "from seq2seq import *\n",
    "from Encoder_search import *\n",
    "from Decoder_search import *\n",
    "from datasets import  load_from_disk"
   ]
  },
  {
   "cell_type": "code",
   "execution_count": 3,
   "metadata": {},
   "outputs": [],
   "source": [
    "#hyperparameters\n",
    "batch_size = 80       # Number of sequences in a mini-batch\n",
    "vocab_size = 30000     # Size of the input vocabulary\n",
    "hidden_size = 1000     # Number of features in the hidden state\n",
    "embedding_dim = 620   # Word embedding dimension\n",
    "context_size = ...   # Number of features in the context vector"
   ]
  },
  {
   "cell_type": "markdown",
   "metadata": {},
   "source": [
    "# Getting the vocabs"
   ]
  },
  {
   "cell_type": "code",
   "execution_count": 4,
   "metadata": {},
   "outputs": [],
   "source": [
    "\n",
    "# Define the file path\n",
    "eng_vocab_path= '../../30k_eng.txt'  # Replace with your file path\n",
    "fr_vocab_path = '../../30k_fr.txt'\n",
    "# Open the file and read lines into a list\n",
    "with open(eng_vocab_path, 'r') as file:\n",
    "    eng_vocab = [line.strip() for line in file]\n",
    "\n",
    "with open(fr_vocab_path, 'r') as file:\n",
    "    fr_vocab = [line.strip() for line in file]"
   ]
  },
  {
   "cell_type": "code",
   "execution_count": 6,
   "metadata": {},
   "outputs": [],
   "source": [
    "# word to id french dict\n",
    "word_dict_fr = {i: word.strip() for i, word in enumerate(fr_vocab)}\n",
    "\n",
    "# word to id eng dict\n",
    "word_dict_eng = {i: word.strip() for i, word in enumerate(eng_vocab)}\n"
   ]
  },
  {
   "cell_type": "markdown",
   "metadata": {},
   "source": [
    "# Initializing the model"
   ]
  },
  {
   "cell_type": "code",
   "execution_count": null,
   "metadata": {},
   "outputs": [],
   "source": [
    "econder=Encoder(vocab_size,embedding_dim,hidden_size)\n",
    "decoder=Decoder(vocab_size,embedding_dim,context_size,hidden_size)\n",
    "model=Seq2Seq(econder,decoder)"
   ]
  },
  {
   "cell_type": "code",
   "execution_count": null,
   "metadata": {},
   "outputs": [],
   "source": [
    "def Init_weights(self):\n",
    "        for name, param in m.named_parameters():\n",
    "\n",
    "            if 'weight_hh' in name:\n",
    "                init.orthogonal_(param.data) \n",
    "            elif 'weight' in name:  \n",
    "                nn.init.normal_(param.data, mean=0, std=0.01)  \n",
    "            else:\n",
    "            nn.init.constant_(param.data,0)"
   ]
  },
  {
   "cell_type": "code",
   "execution_count": null,
   "metadata": {},
   "outputs": [],
   "source": [
    "data = load_from_disk('C:\\\\Users\\\\ferie\\\\OneDrive\\\\Bureau\\\\M2 ISI\\\\mini_dataset')\n",
    "batches = train.make_batches(data, batch_size)"
   ]
  },
  {
   "cell_type": "code",
   "execution_count": null,
   "metadata": {},
   "outputs": [],
   "source": []
  }
 ],
 "metadata": {
  "kernelspec": {
   "display_name": "ISI",
   "language": "python",
   "name": "python3"
  },
  "language_info": {
   "codemirror_mode": {
    "name": "ipython",
    "version": 3
   },
   "file_extension": ".py",
   "mimetype": "text/x-python",
   "name": "python",
   "nbconvert_exporter": "python",
   "pygments_lexer": "ipython3",
   "version": "3.11.5"
  }
 },
 "nbformat": 4,
 "nbformat_minor": 2
}
